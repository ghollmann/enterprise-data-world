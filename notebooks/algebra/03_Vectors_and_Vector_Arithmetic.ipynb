{
 "cells": [
  {
   "cell_type": "code",
   "execution_count": null,
   "metadata": {},
   "outputs": [],
   "source": [
    "# create a vector\n",
    "from numpy import array\n",
    "# define vector\n",
    "v = array([1, 2, 3])\n",
    "print(v)"
   ]
  },
  {
   "cell_type": "code",
   "execution_count": null,
   "metadata": {},
   "outputs": [],
   "source": [
    "# vector addition\n",
    "from numpy import array\n",
    "# define first vector\n",
    "a = array([1, 2, 3])\n",
    "print(a)\n",
    "# define second vector\n",
    "b = array([1, 2, 3])\n",
    "print(b)\n",
    "# add vectors\n",
    "c = a + b\n",
    "print(c)"
   ]
  },
  {
   "cell_type": "code",
   "execution_count": null,
   "metadata": {},
   "outputs": [],
   "source": [
    "# vector subtraction\n",
    "from numpy import array\n",
    "# define first vector\n",
    "a = array([1, 2, 3])\n",
    "print(a)\n",
    "# define second vector\n",
    "b = array([0.5, 0.5, 0.5])\n",
    "print(b)\n",
    "# subtract vectors\n",
    "c = a - b\n",
    "print(c)"
   ]
  },
  {
   "cell_type": "code",
   "execution_count": null,
   "metadata": {},
   "outputs": [],
   "source": [
    "# vector multiplication\n",
    "from numpy import array\n",
    "# define first vector\n",
    "a = array([1, 2, 3])\n",
    "print(a)\n",
    "# define second vector\n",
    "b = array([1, 2, 3])\n",
    "print(b)\n",
    "# multiply vectors\n",
    "c = a * b\n",
    "print(c)"
   ]
  },
  {
   "cell_type": "code",
   "execution_count": null,
   "metadata": {},
   "outputs": [],
   "source": [
    "# vector division\n",
    "from numpy import array\n",
    "# define first vector\n",
    "a = array([1, 2, 3])\n",
    "print(a)\n",
    "# define second vector\n",
    "b = array([1, 2, 3])\n",
    "print(b)\n",
    "# divide vectors\n",
    "c = a / b\n",
    "print(c)"
   ]
  },
  {
   "cell_type": "code",
   "execution_count": null,
   "metadata": {},
   "outputs": [],
   "source": [
    "# vector dot product\n",
    "from numpy import array\n",
    "# define first vector\n",
    "a = array([1, 2, 3])\n",
    "print(a)\n",
    "# define second vector\n",
    "b = array([1, 2, 3])\n",
    "print(b)\n",
    "# multiply vectors\n",
    "c = a.dot(b)\n",
    "print(c)"
   ]
  },
  {
   "cell_type": "code",
   "execution_count": null,
   "metadata": {},
   "outputs": [],
   "source": [
    "# vector-scalar multiplication\n",
    "from numpy import array\n",
    "# define vector\n",
    "a = array([1, 2, 3])\n",
    "print(a)\n",
    "# define scalar\n",
    "s = 0.5\n",
    "print(s)\n",
    "# multiplication\n",
    "c = s * a\n",
    "print(c)"
   ]
  },
  {
   "cell_type": "code",
   "execution_count": null,
   "metadata": {},
   "outputs": [],
   "source": []
  }
 ],
 "metadata": {
  "kernelspec": {
   "display_name": "Python 3",
   "language": "python",
   "name": "python3"
  },
  "language_info": {
   "codemirror_mode": {
    "name": "ipython",
    "version": 3
   },
   "file_extension": ".py",
   "mimetype": "text/x-python",
   "name": "python",
   "nbconvert_exporter": "python",
   "pygments_lexer": "ipython3",
   "version": "3.6.3"
  }
 },
 "nbformat": 4,
 "nbformat_minor": 2
}
