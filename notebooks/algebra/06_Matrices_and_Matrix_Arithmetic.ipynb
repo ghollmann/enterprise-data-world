{
 "cells": [
  {
   "cell_type": "code",
   "execution_count": null,
   "metadata": {},
   "outputs": [],
   "source": [
    "# triangular matrices\n",
    "from numpy import array\n",
    "from numpy import tril\n",
    "from numpy import triu\n",
    "# define square matrix\n",
    "M = array([\n",
    "\t[1, 2, 3],\n",
    "\t[1, 2, 3],\n",
    "\t[1, 2, 3]])\n",
    "print(M)\n",
    "# lower triangular matrix\n",
    "lower = tril(M)\n",
    "print(lower)\n",
    "# upper triangular matrix\n",
    "upper = triu(M)\n",
    "print(upper)\n"
   ]
  },
  {
   "cell_type": "code",
   "execution_count": null,
   "metadata": {},
   "outputs": [],
   "source": [
    "# diagonal matrix\n",
    "from numpy import array\n",
    "from numpy import diag\n",
    "# define square matrix\n",
    "M = array([\n",
    "\t[1, 2, 3],\n",
    "\t[1, 2, 3],\n",
    "\t[1, 2, 3]])\n",
    "print(M)\n",
    "# extract diagonal vector\n",
    "d = diag(M)\n",
    "print(d)\n",
    "# create diagonal matrix from vector\n",
    "D = diag(d)\n",
    "print(D)"
   ]
  },
  {
   "cell_type": "code",
   "execution_count": null,
   "metadata": {},
   "outputs": [],
   "source": [
    "# identity matrix\n",
    "from numpy import identity\n",
    "I = identity(3)\n",
    "print(I)"
   ]
  },
  {
   "cell_type": "code",
   "execution_count": null,
   "metadata": {},
   "outputs": [],
   "source": [
    "# orthogonal matrix\n",
    "from numpy import array\n",
    "from numpy.linalg import inv\n",
    "# define orthogonal matrix\n",
    "Q = array([\n",
    "\t[1, 0],\n",
    "\t[0, -1]])\n",
    "print(Q)\n",
    "# inverse equivalence\n",
    "V = inv(Q)\n",
    "print(Q.T)\n",
    "print(V)\n",
    "# identity equivalence\n",
    "I = Q.dot(Q.T)\n",
    "print(I)"
   ]
  },
  {
   "cell_type": "code",
   "execution_count": null,
   "metadata": {},
   "outputs": [],
   "source": []
  }
 ],
 "metadata": {
  "kernelspec": {
   "display_name": "Python 3",
   "language": "python",
   "name": "python3"
  },
  "language_info": {
   "codemirror_mode": {
    "name": "ipython",
    "version": 3
   },
   "file_extension": ".py",
   "mimetype": "text/x-python",
   "name": "python",
   "nbconvert_exporter": "python",
   "pygments_lexer": "ipython3",
   "version": "3.6.3"
  }
 },
 "nbformat": 4,
 "nbformat_minor": 2
}
