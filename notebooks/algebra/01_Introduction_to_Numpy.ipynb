{
 "cells": [
  {
   "cell_type": "markdown",
   "metadata": {},
   "source": [
    "# Linar Algebra, Python, an d Numpy"
   ]
  },
  {
   "cell_type": "markdown",
   "metadata": {},
   "source": [
    "## NumPy N-dimensional Array"
   ]
  },
  {
   "cell_type": "code",
   "execution_count": null,
   "metadata": {},
   "outputs": [],
   "source": [
    "# create array\n",
    "from numpy import array\n",
    "# create array\n",
    "l = [1.0, 2.0, 3.0]\n",
    "a = array(l)\n",
    "# display array\n",
    "print(a)\n",
    "# display array shape\n",
    "print(a.shape)\n",
    "# display array data type\n",
    "print(a.dtype)"
   ]
  },
  {
   "cell_type": "markdown",
   "metadata": {},
   "source": [
    "## Functions to Create Arrays\n",
    "\n",
    "### Empty"
   ]
  },
  {
   "cell_type": "code",
   "execution_count": null,
   "metadata": {},
   "outputs": [],
   "source": [
    "# create empty array\n",
    "from numpy import empty\n",
    "a = empty([3,3])\n",
    "print(a)"
   ]
  },
  {
   "cell_type": "markdown",
   "metadata": {},
   "source": [
    "### Zeros"
   ]
  },
  {
   "cell_type": "code",
   "execution_count": null,
   "metadata": {},
   "outputs": [],
   "source": [
    "# create zero array\n",
    "from numpy import zeros\n",
    "a = zeros([3,5])\n",
    "print(a)"
   ]
  },
  {
   "cell_type": "markdown",
   "metadata": {},
   "source": [
    "### Ones"
   ]
  },
  {
   "cell_type": "code",
   "execution_count": null,
   "metadata": {},
   "outputs": [],
   "source": [
    "# create one array\n",
    "from numpy import ones\n",
    "a = ones([5])\n",
    "print(a)"
   ]
  },
  {
   "cell_type": "markdown",
   "metadata": {},
   "source": [
    "## Combining Arrays\n",
    "\n",
    "### Vertical Stack"
   ]
  },
  {
   "cell_type": "code",
   "execution_count": null,
   "metadata": {},
   "outputs": [],
   "source": [
    "# create array with vstack\n",
    "from numpy import array\n",
    "from numpy import vstack\n",
    "# create first array\n",
    "a1 = array([1,2,3])\n",
    "print(a1)\n",
    "# create second array\n",
    "a2 = array([4,5,6])\n",
    "print(a2)\n",
    "# vertical stack\n",
    "a3 = vstack((a1, a2))\n",
    "print(a3)\n",
    "print(a3.shape)"
   ]
  },
  {
   "cell_type": "markdown",
   "metadata": {},
   "source": [
    "### Horizontal Stack"
   ]
  },
  {
   "cell_type": "code",
   "execution_count": null,
   "metadata": {},
   "outputs": [],
   "source": [
    "# create array with hstack\n",
    "from numpy import array\n",
    "from numpy import hstack\n",
    "# create first array\n",
    "a1 = array([1,2,3])\n",
    "print(a1)\n",
    "# create second array\n",
    "a2 = array([4,5,6])\n",
    "print(a2)\n",
    "# create horizontal stack\n",
    "a3 = hstack((a1, a2))\n",
    "print(a3)\n",
    "print(a3.shape)"
   ]
  },
  {
   "cell_type": "code",
   "execution_count": null,
   "metadata": {},
   "outputs": [],
   "source": []
  }
 ],
 "metadata": {
  "kernelspec": {
   "display_name": "Python 3",
   "language": "python",
   "name": "python3"
  },
  "language_info": {
   "codemirror_mode": {
    "name": "ipython",
    "version": 3
   },
   "file_extension": ".py",
   "mimetype": "text/x-python",
   "name": "python",
   "nbconvert_exporter": "python",
   "pygments_lexer": "ipython3",
   "version": "3.6.3"
  }
 },
 "nbformat": 4,
 "nbformat_minor": 2
}
