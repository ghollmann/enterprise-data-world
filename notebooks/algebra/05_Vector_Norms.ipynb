{
 "cells": [
  {
   "cell_type": "code",
   "execution_count": null,
   "metadata": {},
   "outputs": [],
   "source": [
    "# create matrix\n",
    "from numpy import array\n",
    "A = array([[1, 2, 3], [4, 5, 6]])\n",
    "print(A)"
   ]
  },
  {
   "cell_type": "code",
   "execution_count": null,
   "metadata": {},
   "outputs": [],
   "source": [
    "# matrix addition\n",
    "from numpy import array\n",
    "# define first matrix\n",
    "A = array([\n",
    "\t[1, 2, 3],\n",
    "\t[4, 5, 6]])\n",
    "print(A)\n",
    "# define second matrix\n",
    "B = array([\n",
    "\t[1, 2, 3],\n",
    "\t[4, 5, 6]])\n",
    "print(B)\n",
    "# add matrices\n",
    "C = A + B\n",
    "print(C)"
   ]
  },
  {
   "cell_type": "code",
   "execution_count": null,
   "metadata": {},
   "outputs": [],
   "source": [
    "# matrix subtraction\n",
    "from numpy import array\n",
    "# define first matrix\n",
    "A = array([\n",
    "\t[1, 2, 3],\n",
    "\t[4, 5, 6]])\n",
    "print(A)\n",
    "# define second matrix\n",
    "B = array([\n",
    "\t[0.5, 0.5, 0.5],\n",
    "\t[0.5, 0.5, 0.5]])\n",
    "print(B)\n",
    "# subtract matrices\n",
    "C = A - B\n",
    "print(C)"
   ]
  },
  {
   "cell_type": "code",
   "execution_count": null,
   "metadata": {},
   "outputs": [],
   "source": [
    "# matrix division\n",
    "from numpy import array\n",
    "# define first matrix\n",
    "A = array([\n",
    "\t[1, 2, 3],\n",
    "\t[4, 5, 6]])\n",
    "print(A)\n",
    "# define second matrix\n",
    "B = array([\n",
    "\t[1, 2, 3],\n",
    "\t[4, 5, 6]])\n",
    "print(B)\n",
    "# divide matrices\n",
    "C = A / B\n",
    "print(C)"
   ]
  },
  {
   "cell_type": "code",
   "execution_count": null,
   "metadata": {},
   "outputs": [],
   "source": [
    "# matrix dot product\n",
    "from numpy import array\n",
    "# define first matrix\n",
    "A = array([\n",
    "\t[1, 2],\n",
    "\t[3, 4],\n",
    "\t[5, 6]])\n",
    "print(A)\n",
    "# define second matrix\n",
    "B = array([\n",
    "\t[1, 2],\n",
    "\t[3, 4]])\n",
    "print(B)\n",
    "# multiply matrices\n",
    "C = A.dot(B)\n",
    "print(C)\n",
    "# multiply matrices with @ operator\n",
    "D = A @ B\n",
    "print(D)"
   ]
  },
  {
   "cell_type": "code",
   "execution_count": null,
   "metadata": {},
   "outputs": [],
   "source": [
    "# matrix-vector multiplication\n",
    "from numpy import array\n",
    "# define matrix\n",
    "A = array([\n",
    "\t[1, 2],\n",
    "\t[3, 4],\n",
    "\t[5, 6]])\n",
    "print(A)\n",
    "# define vector\n",
    "B = array([0.5, 0.5])\n",
    "print(B)\n",
    "# multiply\n",
    "C = A.dot(B)\n",
    "print(C)"
   ]
  },
  {
   "cell_type": "code",
   "execution_count": null,
   "metadata": {},
   "outputs": [],
   "source": [
    "# matrix-scalar multiplication\n",
    "from numpy import array\n",
    "# define matrix\n",
    "A = array([[1, 2], [3, 4], [5, 6]])\n",
    "print(A)\n",
    "# define scalar\n",
    "b = 0.5\n",
    "print(b)\n",
    "# multiply\n",
    "C = A * b\n",
    "print(C)"
   ]
  },
  {
   "cell_type": "code",
   "execution_count": null,
   "metadata": {},
   "outputs": [],
   "source": []
  }
 ],
 "metadata": {
  "kernelspec": {
   "display_name": "Python 3",
   "language": "python",
   "name": "python3"
  },
  "language_info": {
   "codemirror_mode": {
    "name": "ipython",
    "version": 3
   },
   "file_extension": ".py",
   "mimetype": "text/x-python",
   "name": "python",
   "nbconvert_exporter": "python",
   "pygments_lexer": "ipython3",
   "version": "3.6.3"
  }
 },
 "nbformat": 4,
 "nbformat_minor": 2
}
